{
 "cells": [
  {
   "cell_type": "markdown",
   "id": "40d70e96",
   "metadata": {},
   "source": [
    "# Monads"
   ]
  },
  {
   "cell_type": "markdown",
   "id": "849079e6",
   "metadata": {},
   "source": [
    ">Monads are monoids in the category of endofunctors \n",
    "\n",
    "(lol). Let's break this down"
   ]
  },
  {
   "cell_type": "markdown",
   "id": "728e55f7",
   "metadata": {},
   "source": [
    "## Monoids"
   ]
  },
  {
   "cell_type": "markdown",
   "id": "30edbe34",
   "metadata": {},
   "source": [
    "A monoid is a mathematical construct that holds a combination function between 2 values. Put simply, it's a unit of work where 2 values go in and one value comes out.\n",
    "\n",
    "The empty method returns a base state where nothing is changed.\n",
    "\n",
    "Combine is important as it is what makes the thing monadic. It needs to be associative. This means that the order of the arguments in the transformations does not matter, _only_ the order of the transformations.\n",
    "\n",
    "For example, combine(a,combine(b,c)) is the same as combine(combine(a,b),c). This is because the evaluated result at the end will not change as the inputs are the same."
   ]
  },
  {
   "cell_type": "code",
   "execution_count": 25,
   "id": "1d288d39",
   "metadata": {},
   "outputs": [
    {
     "data": {
      "text/plain": [
       "defined \u001b[32mtrait\u001b[39m \u001b[36mMonoid\u001b[39m"
      ]
     },
     "execution_count": 25,
     "metadata": {},
     "output_type": "execute_result"
    }
   ],
   "source": [
    "trait Monoid[T] {\n",
    "    def empty: T\n",
    "    def combine(a: T, b: T): T\n",
    "}"
   ]
  },
  {
   "cell_type": "markdown",
   "id": "c5cf8500",
   "metadata": {},
   "source": [
    "Let's look at an example"
   ]
  },
  {
   "cell_type": "code",
   "execution_count": 26,
   "id": "4036d4cf",
   "metadata": {},
   "outputs": [
    {
     "data": {
      "text/plain": [
       "defined \u001b[32mobject\u001b[39m \u001b[36mIntMonoidAdd\u001b[39m"
      ]
     },
     "execution_count": 26,
     "metadata": {},
     "output_type": "execute_result"
    }
   ],
   "source": [
    "object IntMonoidAdd extends Monoid[Int] {\n",
    "    override def empty = 0\n",
    "    override def combine(a: Int, b: Int) = a + b\n",
    "}"
   ]
  },
  {
   "cell_type": "code",
   "execution_count": 27,
   "id": "f540bf7f",
   "metadata": {},
   "outputs": [
    {
     "data": {
      "text/plain": [
       "\u001b[36mres\u001b[39m: \u001b[32mInt\u001b[39m = \u001b[32m5\u001b[39m"
      ]
     },
     "execution_count": 27,
     "metadata": {},
     "output_type": "execute_result"
    }
   ],
   "source": [
    "val res = IntMonoidAdd.combine(2,3)"
   ]
  },
  {
   "cell_type": "markdown",
   "id": "742df780",
   "metadata": {},
   "source": [
    "The monoid wraps the work we want to do (adding 2 numbers) The combine method derives the value from the inputs. If we were to use lots of monoid adds together, we would get the same results."
   ]
  },
  {
   "cell_type": "code",
   "execution_count": 28,
   "id": "1c70bd3a",
   "metadata": {},
   "outputs": [
    {
     "name": "stdout",
     "output_type": "stream",
     "text": [
      "true\n"
     ]
    },
    {
     "data": {
      "text/plain": [
       "\u001b[36mres2\u001b[39m: \u001b[32mInt\u001b[39m = \u001b[32m14\u001b[39m\r\n",
       "\u001b[36mres3\u001b[39m: \u001b[32mInt\u001b[39m = \u001b[32m14\u001b[39m"
      ]
     },
     "execution_count": 28,
     "metadata": {},
     "output_type": "execute_result"
    }
   ],
   "source": [
    "val res2 = IntMonoidAdd.combine(2, IntMonoidAdd.combine(3, IntMonoidAdd.combine(4,5)))\n",
    "val res3 = IntMonoidAdd.combine(IntMonoidAdd.combine(2,5), IntMonoidAdd.combine(4,3))\n",
    "\n",
    "println(res2 == res3)"
   ]
  },
  {
   "cell_type": "markdown",
   "id": "ffdcdde8",
   "metadata": {},
   "source": [
    "This shows the associative nature of the monoid. Order of transformations matter, not inputs. (The above does the MonoidAdd 3 times in both scenarios with the same arguments, the args could be in different orders and the result would be the same)"
   ]
  },
  {
   "cell_type": "markdown",
   "id": "e426d4f1",
   "metadata": {},
   "source": [
    "### Functional Monoid"
   ]
  },
  {
   "cell_type": "markdown",
   "id": "d7be5462",
   "metadata": {},
   "source": [
    "Monoids are simple, but they aren't the full story. Monoids can have many more ops than just combine and empty, those these are the defaults usually. Let's abstract this."
   ]
  },
  {
   "cell_type": "code",
   "execution_count": 29,
   "id": "36630d1b",
   "metadata": {},
   "outputs": [
    {
     "data": {
      "text/plain": [
       "defined \u001b[32mtrait\u001b[39m \u001b[36mFunctionalMonoid\u001b[39m"
      ]
     },
     "execution_count": 29,
     "metadata": {},
     "output_type": "execute_result"
    }
   ],
   "source": [
    "trait FunctionalMonoid[T] {\n",
    "    def empty: Unit => T\n",
    "    def combine: ((T, T)) => T\n",
    "}"
   ]
  },
  {
   "cell_type": "markdown",
   "id": "50d84801",
   "metadata": {},
   "source": [
    "The functional monoid is identical to the above regarding function. The difference is that the detail of the operations is revealed more clearly (empty is a func that takes no args and returns a val)"
   ]
  },
  {
   "cell_type": "markdown",
   "id": "ae001581",
   "metadata": {},
   "source": [
    "Combine's API has changed though, it was a 2  arg func, but is now a 1 arg function. The FunctionalMonoid shows the Commutativeness of monads. Associative is order of transformations mattering. Commutativeness is the order of inputs _not_ mattering."
   ]
  },
  {
   "cell_type": "markdown",
   "id": "2d791975",
   "metadata": {},
   "source": [
    "It doesn't matter what order the args are for the combine function in a monad. The result will always be the same if the transformations are the same."
   ]
  },
  {
   "cell_type": "markdown",
   "id": "d3a4a817",
   "metadata": {},
   "source": [
    "### Very generic Monoid"
   ]
  },
  {
   "cell_type": "code",
   "execution_count": 30,
   "id": "6c15557f",
   "metadata": {},
   "outputs": [
    {
     "data": {
      "text/plain": [
       "defined \u001b[32mtrait\u001b[39m \u001b[36mGeneralMonoid\u001b[39m"
      ]
     },
     "execution_count": 30,
     "metadata": {},
     "output_type": "execute_result"
    }
   ],
   "source": [
    "trait GeneralMonoid[T, U, P] {\n",
    "    def empty: U => T\n",
    "    def combine: P => T\n",
    "}"
   ]
  },
  {
   "cell_type": "markdown",
   "id": "903e1376",
   "metadata": {},
   "source": [
    "- T is the type, as per usual\n",
    "- U is the 0 or base state value of the monoid\n",
    "- P is the product algebraic type that is consumed by combine\n"
   ]
  },
  {
   "cell_type": "markdown",
   "id": "8a91725b",
   "metadata": {},
   "source": [
    "A key difference across the more abstract monoids is that they return functions, not values from their methods. This means their APIs can follow a lambda style approach rather than having to adhere to a specific contract. This is exemplified if we generify the monoid _even_ more"
   ]
  },
  {
   "cell_type": "code",
   "execution_count": 31,
   "id": "3b871de8",
   "metadata": {},
   "outputs": [
    {
     "data": {
      "text/plain": [
       "defined \u001b[32mtrait\u001b[39m \u001b[36mMostGeneralMonoid\u001b[39m"
      ]
     },
     "execution_count": 31,
     "metadata": {},
     "output_type": "execute_result"
    }
   ],
   "source": [
    "trait MostGeneralMonoid[T, ~>[_, _], U, P] {\n",
    "    def empty: U ~> T\n",
    "    def combine: P ~> T\n",
    "}"
   ]
  },
  {
   "cell_type": "markdown",
   "id": "ecdd73f3",
   "metadata": {},
   "source": [
    "What this monoid does is interesting. We've extracted out the concept of a function into it's own type (this is a higher kinded type). The function type we've created can take up to 2 arguments, but it does not have to take any, or at the very least, we don't have to care about what the arguments are. This means we can use this higher kinded function for both the empty and combine opps.\n",
    "\n",
    "The tricky thing is that the function is used infix, that is, it takes things either side of it as its arguments."
   ]
  },
  {
   "cell_type": "markdown",
   "id": "922f8cf6",
   "metadata": {},
   "source": [
    "Using this most general monoid, we can remake our initial monoid from the beginning."
   ]
  },
  {
   "cell_type": "code",
   "execution_count": 32,
   "id": "44e0a942",
   "metadata": {},
   "outputs": [
    {
     "data": {
      "text/plain": [
       "defined \u001b[32mtrait\u001b[39m \u001b[36mNewMonoid\u001b[39m"
      ]
     },
     "execution_count": 32,
     "metadata": {},
     "output_type": "execute_result"
    }
   ],
   "source": [
    "trait NewMonoid[T] extends MostGeneralMonoid[T, Function1, Unit, (T, T)]"
   ]
  },
  {
   "cell_type": "code",
   "execution_count": 33,
   "id": "93f67150",
   "metadata": {},
   "outputs": [
    {
     "data": {
      "text/plain": [
       "defined \u001b[32mobject\u001b[39m \u001b[36mIntMonoidMinus\u001b[39m"
      ]
     },
     "execution_count": 33,
     "metadata": {},
     "output_type": "execute_result"
    }
   ],
   "source": [
    "object IntMonoidMinus extends NewMonoid[Int] {\n",
    "    override def empty = _ => 0\n",
    "    override def combine = (a, b) => a - b\n",
    "}"
   ]
  },
  {
   "cell_type": "code",
   "execution_count": 34,
   "id": "c3fb09c5",
   "metadata": {},
   "outputs": [
    {
     "data": {
      "text/plain": [
       "\u001b[36mres4\u001b[39m: \u001b[32mInt\u001b[39m = \u001b[32m5\u001b[39m"
      ]
     },
     "execution_count": 34,
     "metadata": {},
     "output_type": "execute_result"
    }
   ],
   "source": [
    "val res4 = IntMonoidMinus.combine(7,2)"
   ]
  },
  {
   "cell_type": "markdown",
   "id": "03bd62a8",
   "metadata": {},
   "source": [
    "### Higher kinded general monoid"
   ]
  },
  {
   "cell_type": "code",
   "execution_count": 35,
   "id": "e7d6196c",
   "metadata": {},
   "outputs": [
    {
     "data": {
      "text/plain": [
       "defined \u001b[32mtrait\u001b[39m \u001b[36mMostGeneralMonoidK2\u001b[39m"
      ]
     },
     "execution_count": 35,
     "metadata": {},
     "output_type": "execute_result"
    }
   ],
   "source": [
    "trait MostGeneralMonoidK2[T[_], ~>[_[_], _[_]], U[_], P[_]] {\n",
    "    def empty: U ~> T\n",
    "    def combine: P ~> T\n",
    "}"
   ]
  },
  {
   "cell_type": "markdown",
   "id": "27b20270",
   "metadata": {},
   "source": [
    "The above is a higher kinded version of the most general monoid. The most general monoid was in the category of type T. This means that it works on things of type T only.\n",
    "\n",
    "The above is in the category of `T[_]`"
   ]
  },
  {
   "cell_type": "markdown",
   "id": "77533a64",
   "metadata": {},
   "source": [
    "This means anything that is wrapped with T can be worked on by this monoid"
   ]
  },
  {
   "cell_type": "markdown",
   "id": "4743a6c7",
   "metadata": {},
   "source": [
    "## Functors"
   ]
  },
  {
   "cell_type": "markdown",
   "id": "eb18dfdc",
   "metadata": {},
   "source": [
    ">A function that defines a transformation between categories"
   ]
  },
  {
   "cell_type": "markdown",
   "id": "e913d0f3",
   "metadata": {},
   "source": [
    "Let's break this down too"
   ]
  },
  {
   "cell_type": "code",
   "execution_count": 36,
   "id": "6b6025f3",
   "metadata": {},
   "outputs": [
    {
     "data": {
      "text/plain": [
       "defined \u001b[32mtrait\u001b[39m \u001b[36mFunctor\u001b[39m"
      ]
     },
     "execution_count": 36,
     "metadata": {},
     "output_type": "execute_result"
    }
   ],
   "source": [
    "trait Functor[F[_]] {\n",
    "    def map[A, B](fa: F[A])(fn: A => B): F[B]\n",
    "}"
   ]
  },
  {
   "cell_type": "markdown",
   "id": "1dfb4217",
   "metadata": {},
   "source": [
    "- A is a type\n",
    "- B is a type\n",
    "\n",
    "F is a generic value holder (List, Option etc)"
   ]
  },
  {
   "cell_type": "markdown",
   "id": "44777f8b",
   "metadata": {},
   "source": [
    "The trait describes a transformation from one class to another (in scala a category could be thought of as synonymous with a class)\n",
    "\n",
    "`fa` maps the value holder to A. `fn` describes the transformation between A and B. The return is F wrapped with B as that is the new value after the transformation has occurred.\n",
    "\n",
    "The definition is self contained. This is what makes it 'pure'"
   ]
  },
  {
   "cell_type": "markdown",
   "id": "dd2f56b6",
   "metadata": {},
   "source": [
    "An endofunctor is a functor that ingests a category and returns that same category. For example a functor that worked on Option and returns another Option"
   ]
  },
  {
   "cell_type": "markdown",
   "id": "45ac4478",
   "metadata": {},
   "source": [
    "### Functor transformations"
   ]
  },
  {
   "cell_type": "markdown",
   "id": "be16f7e4",
   "metadata": {},
   "source": [
    "A functor transformation is the opposite of an endofunctor and is defined as follows"
   ]
  },
  {
   "cell_type": "code",
   "execution_count": 37,
   "id": "a52633ec",
   "metadata": {},
   "outputs": [
    {
     "data": {
      "text/plain": [
       "defined \u001b[32mtrait\u001b[39m \u001b[36mFunctorTransformation\u001b[39m"
      ]
     },
     "execution_count": 37,
     "metadata": {},
     "output_type": "execute_result"
    }
   ],
   "source": [
    "trait FunctorTransformation[-F[_], +G[_]] {\n",
    "    def apply[A](fa: F[A]): G[A]\n",
    "}"
   ]
  },
  {
   "cell_type": "markdown",
   "id": "24dcc40c",
   "metadata": {},
   "source": [
    "Note how in this example the value doesn't change but the wrapping type does. Functors can also work on categories too. This is important as we often need to change how something works and this is how we do that."
   ]
  },
  {
   "cell_type": "markdown",
   "id": "d38f4b0d",
   "metadata": {},
   "source": [
    "The variance annotations are significant here as the F type must be specific, otherwise the transformation could fail unexpectedly (only the type specified for the transformation is allowed). The G type can be covariant as anything that is in the same category is fine (Anything that matches the box we want is fine)."
   ]
  },
  {
   "cell_type": "markdown",
   "id": "627a28fd",
   "metadata": {},
   "source": [
    "F and G can be data wrapper types like: List, Option: Either.\n",
    "\n",
    "These are implemented Functors"
   ]
  },
  {
   "cell_type": "markdown",
   "id": "c0ee9e09",
   "metadata": {},
   "source": [
    "### ID functor"
   ]
  },
  {
   "cell_type": "code",
   "execution_count": 38,
   "id": "e1851707",
   "metadata": {},
   "outputs": [
    {
     "data": {
      "text/plain": [
       "defined \u001b[32mtype\u001b[39m \u001b[36mId\u001b[39m"
      ]
     },
     "execution_count": 38,
     "metadata": {},
     "output_type": "execute_result"
    }
   ],
   "source": [
    "type Id[A] = A"
   ]
  },
  {
   "cell_type": "code",
   "execution_count": 39,
   "id": "45e3728d",
   "metadata": {},
   "outputs": [
    {
     "data": {
      "text/plain": [
       "defined \u001b[32mobject\u001b[39m \u001b[36midFunctor\u001b[39m"
      ]
     },
     "execution_count": 39,
     "metadata": {},
     "output_type": "execute_result"
    }
   ],
   "source": [
    "given idFunctor: Functor[Id] with {\n",
    "    def map[A, B](fa: A)(fn: A => B): B = fn(fa)\n",
    "}"
   ]
  },
  {
   "cell_type": "markdown",
   "id": "1e469059",
   "metadata": {},
   "source": [
    "Id is an identity element. it's purpose is to act is a neutral value so that the identity of something can be derived. For example, 0 is an identity element. Without 0, we could not prove a number has value. Adding or subtracting 0 from anything leaves the value of the other number intact. Why is sthis important?\n",
    "\n",
    "It's important because it lets us confirm that a transformation has taken place."
   ]
  },
  {
   "cell_type": "markdown",
   "id": "c0e2c772",
   "metadata": {},
   "source": [
    "Functor composition is very similar to function composition"
   ]
  },
  {
   "cell_type": "code",
   "execution_count": 40,
   "id": "9724e351",
   "metadata": {},
   "outputs": [
    {
     "data": {
      "text/plain": [
       "defined \u001b[32mfunction\u001b[39m \u001b[36mfunctionComp\u001b[39m"
      ]
     },
     "execution_count": 40,
     "metadata": {},
     "output_type": "execute_result"
    }
   ],
   "source": [
    "def functionComp[A,B,C](f1: A => B, f2: B => C, v: A) = f2(f1(v))"
   ]
  },
  {
   "cell_type": "markdown",
   "id": "f6b3d431",
   "metadata": {},
   "source": [
    "The above takes an arg of type A and applies 2 transformations on it. Mathematically, this composition makes sense. But, IRL this could break. How do we represent that the value after the transformations exists? Well, we can't. But, we can use use the concept of identity to verify a base state"
   ]
  },
  {
   "cell_type": "code",
   "execution_count": 41,
   "id": "8e63af06",
   "metadata": {},
   "outputs": [
    {
     "data": {
      "text/plain": [
       "defined \u001b[32mtype\u001b[39m \u001b[36mSameTypeComp\u001b[39m"
      ]
     },
     "execution_count": 41,
     "metadata": {},
     "output_type": "execute_result"
    }
   ],
   "source": [
    "type SameTypeComp[F[_], A] = F[F[A]]"
   ]
  },
  {
   "cell_type": "markdown",
   "id": "580185ac",
   "metadata": {},
   "source": [
    "## Tying it together"
   ]
  },
  {
   "cell_type": "code",
   "execution_count": 42,
   "id": "ce87ae58",
   "metadata": {},
   "outputs": [
    {
     "data": {
      "text/plain": [
       "defined \u001b[32mtrait\u001b[39m \u001b[36mMonoidInCategoryOfFunctors\u001b[39m"
      ]
     },
     "execution_count": 42,
     "metadata": {},
     "output_type": "execute_result"
    }
   ],
   "source": [
    "trait MonoidInCategoryOfFunctors[F[_]: Functor] \n",
    "extends MostGeneralMonoidK2[F, FunctorTransformation, Id, [A] =>> F[F[A]]] {\n",
    "    type FunctorProduct[A] = F[F[A]]\n",
    "    \n",
    "    def empty: FunctorTransformation[Id, F]\n",
    "    def combine: FunctorTransformation[FunctorProduct, F]\n",
    "}"
   ]
  },
  {
   "cell_type": "markdown",
   "id": "9f10137e",
   "metadata": {},
   "source": [
    "OK, so we're nearly there. The above is what a Monad is!!!\n",
    "\n",
    "Let's break it down:\n",
    "- A monad holds a binary operation (an op that works on 2 values and returns something or nothing)\n",
    "- It has an identity element that it can yield if has to\n",
    "- It maps from its current category to itself\n",
    "\n",
    "We can almost read the type sig of the MostGeneralMonoidK2 as the definition\n",
    "\n",
    "A monad is a monoid (FunctorTransformation), in the category (F) of endofunctors (the FunctorTransformation return value)"
   ]
  },
  {
   "cell_type": "markdown",
   "id": "c425e58f",
   "metadata": {},
   "source": [
    "Let's create an example for the List type. First, we'll need a functor of List in scope"
   ]
  },
  {
   "cell_type": "code",
   "execution_count": 43,
   "id": "f74c9968",
   "metadata": {},
   "outputs": [
    {
     "data": {
      "text/plain": [
       "defined \u001b[32mobject\u001b[39m \u001b[36mlistFunctor\u001b[39m"
      ]
     },
     "execution_count": 43,
     "metadata": {},
     "output_type": "execute_result"
    }
   ],
   "source": [
    "given listFunctor: Functor[List] with {\n",
    "    def map[A, B](fa: List[A])(fn: A => B): List[B] = fa.map(fn)\n",
    "}"
   ]
  },
  {
   "cell_type": "markdown",
   "id": "7247df6f",
   "metadata": {},
   "source": [
    "This list functor is able to do a natural transformation of the value inside itself (it's an endofunctor)"
   ]
  },
  {
   "cell_type": "code",
   "execution_count": 44,
   "id": "7b752c0c",
   "metadata": {},
   "outputs": [
    {
     "data": {
      "text/plain": [
       "defined \u001b[32mobject\u001b[39m \u001b[36mMyListMonoid\u001b[39m"
      ]
     },
     "execution_count": 44,
     "metadata": {},
     "output_type": "execute_result"
    }
   ],
   "source": [
    "object MyListMonoid extends MonoidInCategoryOfFunctors[List] {\n",
    "    override def empty: FunctorTransformation[Id, List] = new FunctorTransformation {\n",
    "       def apply[A](fa: A): List[A] = List(fa)\n",
    "    }\n",
    "    \n",
    "    override def combine: FunctorTransformation[FunctorProduct, List] = \n",
    "        new FunctorTransformation[FunctorProduct, List] {\n",
    "            def apply[A](fa: List[List[A]]): List[A] = fa.flatten\n",
    "        }\n",
    "}"
   ]
  },
  {
   "cell_type": "markdown",
   "id": "6cb73783",
   "metadata": {},
   "source": [
    "The empty method returns a list with an item (the identity element) This means we can confirm that the functor can hold a value.\n",
    "\n",
    "The combine method is where the magic happens. The Functor Transformation can be whatever we need it to be. In our case above, combine simply flattens the nested list structure of our product type. This is still a monoid though. How does it become a monad?"
   ]
  },
  {
   "cell_type": "code",
   "execution_count": 45,
   "id": "bde5d085",
   "metadata": {},
   "outputs": [
    {
     "data": {
      "text/plain": [
       "defined \u001b[32mobject\u001b[39m \u001b[36mMyListMonad\u001b[39m"
      ]
     },
     "execution_count": 45,
     "metadata": {},
     "output_type": "execute_result"
    }
   ],
   "source": [
    "object MyListMonad extends MonoidInCategoryOfFunctors[List] {\n",
    "    override def empty: FunctorTransformation[Id, List] = new FunctorTransformation {\n",
    "       def apply[A](fa: A): List[A] = List(fa)\n",
    "    }\n",
    "    \n",
    "    override def combine: FunctorTransformation[FunctorProduct, List] = \n",
    "        new FunctorTransformation[FunctorProduct, List] {\n",
    "            def apply[A](fa: List[List[A]]): List[A] = fa.flatten\n",
    "        }\n",
    "    \n",
    "    // The public API we can use\n",
    "    def pure[A](a: A): List[A] = empty(a)\n",
    "    def flatMap[A, B](fa: List[A])(fn: A => List[B]): List[B] = {\n",
    "        val listFunct = summon[Functor[List]]\n",
    "        val transformedVal: List[List[B]] = listFunct.map(fa)(fn)\n",
    "        combine(transformedVal)\n",
    "    }\n",
    "}"
   ]
  },
  {
   "cell_type": "markdown",
   "id": "3f470703",
   "metadata": {},
   "source": [
    "By defining the pure (public constructor) and flatMap functions, we now have a monad "
   ]
  },
  {
   "cell_type": "markdown",
   "id": "fe43304b",
   "metadata": {},
   "source": [
    "![image](7u2rw9.jpg)"
   ]
  },
  {
   "cell_type": "markdown",
   "id": "aac8860d",
   "metadata": {},
   "source": [
    "To put this simply, a monad is a structure that can represent a unit of work that can produce a value or nothing wrapped in a box (the functor). The functor should not change and any transformations of the value should produce a new value inside the box"
   ]
  },
  {
   "cell_type": "markdown",
   "id": "2328aa90",
   "metadata": {},
   "source": [
    "Here's a complete Monad example"
   ]
  },
  {
   "cell_type": "code",
   "execution_count": 46,
   "id": "f5926ba7",
   "metadata": {},
   "outputs": [
    {
     "data": {
      "text/plain": [
       "defined \u001b[32mtrait\u001b[39m \u001b[36mMonad\u001b[39m"
      ]
     },
     "execution_count": 46,
     "metadata": {},
     "output_type": "execute_result"
    }
   ],
   "source": [
    "trait Monad[F[_]] extends Functor[F] \n",
    "with MostGeneralMonoidK2[F, FunctorTransformation, Id, [A] =>> F[F[A]]] {\n",
    "    // The public API\n",
    "    def pure[A](a: A): F[A]\n",
    "    def flatMap[A, B](fa: F[A])(fn: A => F[B]): F[B]\n",
    "    \n",
    "    // Stuff we get for free when public API is implemented\n",
    "    def map[A, B](fa: F[A])(fn: A => B): F[B] = flatMap(fa)(a => pure(fn(a)))\n",
    "    def flatten[A](ffa: F[F[A]]): F[A] = flatMap(ffa)(v => v)\n",
    "    \n",
    "    // Private API that shouldn't be used\n",
    "    type FunctorProduct[A] = F[F[A]]\n",
    "    override def empty: FunctorTransformation[Id, F] = new FunctorTransformation[Id, F] {\n",
    "       def apply[A](fa: A): F[A] = pure(fa)\n",
    "    }\n",
    "    \n",
    "    override def combine: FunctorTransformation[FunctorProduct, F] = \n",
    "        new FunctorTransformation[FunctorProduct, F] {\n",
    "            def apply[A](fa: F[F[A]]): F[A] = flatten(fa)\n",
    "        }\n",
    "}"
   ]
  },
  {
   "cell_type": "code",
   "execution_count": 47,
   "id": "8a76c4d0",
   "metadata": {},
   "outputs": [
    {
     "data": {
      "text/plain": [
       "defined \u001b[32mobject\u001b[39m \u001b[36mMyCompleteListMonad\u001b[39m"
      ]
     },
     "execution_count": 47,
     "metadata": {},
     "output_type": "execute_result"
    }
   ],
   "source": [
    "object MyCompleteListMonad extends Monad[List] {\n",
    "    override def pure[A](a: A): List[A] = List(a)\n",
    "    override def flatMap[A, B](fa: List[A])(fn: A => List[B]): List[B] = {\n",
    "        val listFunct = summon[Functor[List]]\n",
    "        val transformedVal: List[List[B]] = listFunct.map(fa)(fn)\n",
    "        combine(transformedVal)\n",
    "    }\n",
    "}"
   ]
  },
  {
   "cell_type": "code",
   "execution_count": 48,
   "id": "5ef02f09",
   "metadata": {},
   "outputs": [
    {
     "data": {
      "text/plain": [
       "\u001b[36mmyMonad\u001b[39m: \u001b[32mList\u001b[39m[\u001b[32mInt\u001b[39m] = \u001b[33mList\u001b[39m(\u001b[32m5\u001b[39m)"
      ]
     },
     "execution_count": 48,
     "metadata": {},
     "output_type": "execute_result"
    }
   ],
   "source": [
    "val myMonad = MyCompleteListMonad.pure(5)"
   ]
  },
  {
   "cell_type": "code",
   "execution_count": 49,
   "id": "243aea9d",
   "metadata": {},
   "outputs": [
    {
     "data": {
      "text/plain": [
       "\u001b[36mres49\u001b[39m: \u001b[32mList\u001b[39m[\u001b[32mInt\u001b[39m] = \u001b[33mList\u001b[39m(\u001b[32m10\u001b[39m)"
      ]
     },
     "execution_count": 49,
     "metadata": {},
     "output_type": "execute_result"
    }
   ],
   "source": [
    "myMonad.map(v => v + 5)"
   ]
  },
  {
   "cell_type": "markdown",
   "id": "018046d3",
   "metadata": {},
   "source": [
    "Something key to remember is that the methods are all interconnected. As soon as the contract is fulfilled, we get lots of stuff activating out of the box."
   ]
  },
  {
   "cell_type": "code",
   "execution_count": null,
   "id": "7eb56899",
   "metadata": {},
   "outputs": [],
   "source": []
  }
 ],
 "metadata": {
  "kernelspec": {
   "display_name": "Scala",
   "language": "scala",
   "name": "scala"
  },
  "language_info": {
   "codemirror_mode": "text/x-scala",
   "file_extension": ".sc",
   "mimetype": "text/x-scala",
   "name": "scala",
   "nbconvert_exporter": "script",
   "version": "2.13.11"
  },
  "toc": {
   "base_numbering": 1,
   "nav_menu": {},
   "number_sections": true,
   "sideBar": true,
   "skip_h1_title": true,
   "title_cell": "Table of Contents",
   "title_sidebar": "Contents",
   "toc_cell": false,
   "toc_position": {
    "height": "100px",
    "left": "103.983px",
    "top": "309.653px",
    "width": "165px"
   },
   "toc_section_display": true,
   "toc_window_display": false
  }
 },
 "nbformat": 4,
 "nbformat_minor": 5
}
