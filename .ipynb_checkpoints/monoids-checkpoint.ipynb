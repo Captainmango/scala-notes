{
 "cells": [
  {
   "cell_type": "markdown",
   "id": "40d70e96",
   "metadata": {},
   "source": [
    "# Monads"
   ]
  },
  {
   "cell_type": "markdown",
   "id": "849079e6",
   "metadata": {},
   "source": [
    ">Monads are monoids in the category of endofunctors \n",
    "\n",
    "(lol). Let's break this down"
   ]
  },
  {
   "cell_type": "markdown",
   "id": "728e55f7",
   "metadata": {},
   "source": [
    "## Monoids"
   ]
  },
  {
   "cell_type": "markdown",
   "id": "30edbe34",
   "metadata": {},
   "source": [
    "A monoid is a mathematical construct that holds a combination function between 2 values. Put simply, it's a unit of work where 2 values go in and one value comes out.\n",
    "\n",
    "The empty method returns a base state where nothing is changed.\n",
    "\n",
    "Combine is important as it is what makes the thing monadic. It needs to be associative. This means that the order of the arguments in the transformations does not matter, _only_ the order of the transformations.\n",
    "\n",
    "For example, combine(a,combine(b,c)) is the same as combine(combine(a,b),c). This is because the evaluated result at the end will not change as the inputs are the same."
   ]
  },
  {
   "cell_type": "code",
   "execution_count": 3,
   "id": "1d288d39",
   "metadata": {},
   "outputs": [
    {
     "data": {
      "text/plain": [
       "defined \u001b[32mtrait\u001b[39m \u001b[36mMonoid\u001b[39m"
      ]
     },
     "execution_count": 3,
     "metadata": {},
     "output_type": "execute_result"
    }
   ],
   "source": [
    "trait Monoid[T] {\n",
    "    def empty: T\n",
    "    def combine(a: T, b: T): T\n",
    "}"
   ]
  },
  {
   "cell_type": "markdown",
   "id": "c5cf8500",
   "metadata": {},
   "source": [
    "Let's look at an example"
   ]
  },
  {
   "cell_type": "code",
   "execution_count": 4,
   "id": "4036d4cf",
   "metadata": {},
   "outputs": [
    {
     "data": {
      "text/plain": [
       "defined \u001b[32mobject\u001b[39m \u001b[36mIntMonoidAdd\u001b[39m"
      ]
     },
     "execution_count": 4,
     "metadata": {},
     "output_type": "execute_result"
    }
   ],
   "source": [
    "object IntMonoidAdd extends Monoid[Int] {\n",
    "    override def empty = 0\n",
    "    override def combine(a: Int, b: Int) = a + b\n",
    "}"
   ]
  },
  {
   "cell_type": "code",
   "execution_count": 5,
   "id": "f540bf7f",
   "metadata": {},
   "outputs": [
    {
     "data": {
      "text/plain": [
       "\u001b[36mres\u001b[39m: \u001b[32mInt\u001b[39m = \u001b[32m5\u001b[39m"
      ]
     },
     "execution_count": 5,
     "metadata": {},
     "output_type": "execute_result"
    }
   ],
   "source": [
    "val res = IntMonoidAdd.combine(2,3)"
   ]
  },
  {
   "cell_type": "markdown",
   "id": "742df780",
   "metadata": {},
   "source": [
    "The monoid wraps the work we want to do (adding 2 numbers) The combine method derives the value from the inputs. If we were to use lots of monoid adds together, we would get the same results."
   ]
  },
  {
   "cell_type": "code",
   "execution_count": 8,
   "id": "1c70bd3a",
   "metadata": {},
   "outputs": [
    {
     "name": "stdout",
     "output_type": "stream",
     "text": [
      "true\n"
     ]
    },
    {
     "data": {
      "text/plain": [
       "\u001b[36mres2\u001b[39m: \u001b[32mInt\u001b[39m = \u001b[32m14\u001b[39m\r\n",
       "\u001b[36mres3\u001b[39m: \u001b[32mInt\u001b[39m = \u001b[32m14\u001b[39m"
      ]
     },
     "execution_count": 8,
     "metadata": {},
     "output_type": "execute_result"
    }
   ],
   "source": [
    "val res2 = IntMonoidAdd.combine(2, IntMonoidAdd.combine(3, IntMonoidAdd.combine(4,5)))\n",
    "val res3 = IntMonoidAdd.combine(IntMonoidAdd.combine(2,5), IntMonoidAdd.combine(4,3))\n",
    "\n",
    "println(res2 == res3)"
   ]
  },
  {
   "cell_type": "markdown",
   "id": "ffdcdde8",
   "metadata": {},
   "source": [
    "This shows the associative nature of the monoid. Order of transformations matter, not inputs. (The above does the MonoidAdd 3 times in both scenarios with the same arguments, the args could be in different orders and the result would be the same)"
   ]
  },
  {
   "cell_type": "markdown",
   "id": "e426d4f1",
   "metadata": {},
   "source": [
    "### Functional Monoid"
   ]
  },
  {
   "cell_type": "markdown",
   "id": "d7be5462",
   "metadata": {},
   "source": [
    "Monoids are simple, but they aren't the full story. Monoids can have many more ops than just combine and empty, those these are the defaults usually. Let's abstract this."
   ]
  },
  {
   "cell_type": "code",
   "execution_count": 9,
   "id": "36630d1b",
   "metadata": {},
   "outputs": [
    {
     "data": {
      "text/plain": [
       "defined \u001b[32mtrait\u001b[39m \u001b[36mFunctionalMonoid\u001b[39m"
      ]
     },
     "execution_count": 9,
     "metadata": {},
     "output_type": "execute_result"
    }
   ],
   "source": [
    "trait FunctionalMonoid[T] {\n",
    "    def empty: Unit => T\n",
    "    def combine: ((T, T)) => T\n",
    "}"
   ]
  },
  {
   "cell_type": "markdown",
   "id": "50d84801",
   "metadata": {},
   "source": [
    "The functional monoid is identical to the above regarding function. The difference is that the detail of the operations is revealed more clearly (empty is a func that takes no args and returns a val)"
   ]
  },
  {
   "cell_type": "markdown",
   "id": "ae001581",
   "metadata": {},
   "source": [
    "Combine's API has changed though, it was a 2  arg func, but is now a 1 arg function. The FunctionalMonoid shows the Commutativeness of monads. Associative is order of transformations mattering. Commutativeness is the order of inputs _not_ mattering."
   ]
  },
  {
   "cell_type": "markdown",
   "id": "2d791975",
   "metadata": {},
   "source": [
    "It doesn't matter what order the args are for the combine function in a monad. The result will always be the same if the transformations are the same."
   ]
  },
  {
   "cell_type": "markdown",
   "id": "d3a4a817",
   "metadata": {},
   "source": [
    "### Very generic Monoid"
   ]
  },
  {
   "cell_type": "code",
   "execution_count": 10,
   "id": "6c15557f",
   "metadata": {},
   "outputs": [
    {
     "data": {
      "text/plain": [
       "defined \u001b[32mtrait\u001b[39m \u001b[36mGeneralMonoid\u001b[39m"
      ]
     },
     "execution_count": 10,
     "metadata": {},
     "output_type": "execute_result"
    }
   ],
   "source": [
    "trait GeneralMonoid[T, U, P] {\n",
    "    def empty: U => T\n",
    "    def combine: P => T\n",
    "}"
   ]
  },
  {
   "cell_type": "markdown",
   "id": "903e1376",
   "metadata": {},
   "source": [
    "- T is the type, as per usual\n",
    "- U is the 0 or base state value of the monoid\n",
    "- P is the product algebraic type that is consumed by combine\n"
   ]
  },
  {
   "cell_type": "markdown",
   "id": "8a91725b",
   "metadata": {},
   "source": [
    "A key difference across the more abstract monoids is that they return functions, not values from their methods. This means their APIs can follow a lambda style approach rather than having to adhere to a specific contract. This is exemplified if we generify the monoid _even_ more"
   ]
  },
  {
   "cell_type": "code",
   "execution_count": 11,
   "id": "3b871de8",
   "metadata": {},
   "outputs": [
    {
     "data": {
      "text/plain": [
       "defined \u001b[32mtrait\u001b[39m \u001b[36mMostGeneralMonoid\u001b[39m"
      ]
     },
     "execution_count": 11,
     "metadata": {},
     "output_type": "execute_result"
    }
   ],
   "source": [
    "trait MostGeneralMonoid[T, ~>[_, _], U, P] {\n",
    "    def empty: U ~> T\n",
    "    def combine: P ~> T\n",
    "}"
   ]
  },
  {
   "cell_type": "markdown",
   "id": "ecdd73f3",
   "metadata": {},
   "source": [
    "What this monoid does is interesting. We've extracted out the concept of a function into it's own type (this is a higher kinded type). The function type we've created can take up to 2 arguments, but it does not have to take any, or at the very least, we don't have to care about what the arguments are. This means we can use this higher kinded function for both the empty and combine opps.\n",
    "\n",
    "The tricky thing is that the function is used infix, that is, it takes things either side of it as its arguments."
   ]
  },
  {
   "cell_type": "markdown",
   "id": "922f8cf6",
   "metadata": {},
   "source": [
    "Using this most general monoid, we can remake our initial monoid from the beginning."
   ]
  },
  {
   "cell_type": "code",
   "execution_count": 13,
   "id": "44e0a942",
   "metadata": {},
   "outputs": [
    {
     "data": {
      "text/plain": [
       "defined \u001b[32mtrait\u001b[39m \u001b[36mNewMonoid\u001b[39m"
      ]
     },
     "execution_count": 13,
     "metadata": {},
     "output_type": "execute_result"
    }
   ],
   "source": [
    "trait NewMonoid[T] extends MostGeneralMonoid[T, Function1, Unit, (T, T)]"
   ]
  },
  {
   "cell_type": "code",
   "execution_count": 14,
   "id": "93f67150",
   "metadata": {},
   "outputs": [
    {
     "data": {
      "text/plain": [
       "defined \u001b[32mobject\u001b[39m \u001b[36mIntMonoidMinus\u001b[39m"
      ]
     },
     "execution_count": 14,
     "metadata": {},
     "output_type": "execute_result"
    }
   ],
   "source": [
    "object IntMonoidMinus extends NewMonoid[Int] {\n",
    "    override def empty = _ => 0\n",
    "    override def combine = (a, b) => a - b\n",
    "}"
   ]
  },
  {
   "cell_type": "code",
   "execution_count": 15,
   "id": "c3fb09c5",
   "metadata": {},
   "outputs": [
    {
     "data": {
      "text/plain": [
       "\u001b[36mres4\u001b[39m: \u001b[32mInt\u001b[39m = \u001b[32m5\u001b[39m"
      ]
     },
     "execution_count": 15,
     "metadata": {},
     "output_type": "execute_result"
    }
   ],
   "source": [
    "val res4 = IntMonoidMinus.combine(7,2)"
   ]
  },
  {
   "cell_type": "markdown",
   "id": "03bd62a8",
   "metadata": {},
   "source": [
    "### Higher kinded general monoid"
   ]
  },
  {
   "cell_type": "code",
   "execution_count": 16,
   "id": "e7d6196c",
   "metadata": {},
   "outputs": [
    {
     "data": {
      "text/plain": [
       "defined \u001b[32mtrait\u001b[39m \u001b[36mMostGeneralMonoidK2\u001b[39m"
      ]
     },
     "execution_count": 16,
     "metadata": {},
     "output_type": "execute_result"
    }
   ],
   "source": [
    "trait MostGeneralMonoidK2[T[_], ~>[_[_], _[_]], U[_], P[_]] {\n",
    "    def empty: U ~> T\n",
    "    def combine: P ~> T\n",
    "}"
   ]
  },
  {
   "cell_type": "markdown",
   "id": "27b20270",
   "metadata": {},
   "source": [
    "The above is a higher kinded version of the most general monoid. The most general monoid was in the category of type T. This means that it works on things of type T only.\n",
    "\n",
    "The above is in the category of `T[_]`"
   ]
  },
  {
   "cell_type": "markdown",
   "id": "77533a64",
   "metadata": {},
   "source": [
    "This means anything that is wrapped with T can be worked on by this monoid"
   ]
  },
  {
   "cell_type": "markdown",
   "id": "4743a6c7",
   "metadata": {},
   "source": [
    "## Functors"
   ]
  },
  {
   "cell_type": "markdown",
   "id": "eb18dfdc",
   "metadata": {},
   "source": [
    ">A function that defines a transformation between categories"
   ]
  },
  {
   "cell_type": "markdown",
   "id": "e913d0f3",
   "metadata": {},
   "source": [
    "Let's break this down too"
   ]
  },
  {
   "cell_type": "code",
   "execution_count": 17,
   "id": "6b6025f3",
   "metadata": {},
   "outputs": [
    {
     "data": {
      "text/plain": [
       "defined \u001b[32mtrait\u001b[39m \u001b[36mFunctor\u001b[39m"
      ]
     },
     "execution_count": 17,
     "metadata": {},
     "output_type": "execute_result"
    }
   ],
   "source": [
    "trait Functor[F[_]] {\n",
    "    def map[A, B](fa: F[A])(fn: A => B): F[B]\n",
    "}"
   ]
  },
  {
   "cell_type": "markdown",
   "id": "1dfb4217",
   "metadata": {},
   "source": [
    "- A is a type\n",
    "- B is a type\n",
    "\n",
    "F is a generic value holder"
   ]
  },
  {
   "cell_type": "markdown",
   "id": "44777f8b",
   "metadata": {},
   "source": [
    "The trait describes a transformation from one class to another (in scala a category could be thought of as synonymous with a class)\n",
    "\n",
    "`fa` maps the function holder to A. `fn` describes the transformation between A and B. The return is F wrapped with B as that is the new value after the transformation has occurred.\n",
    "\n",
    "The definition is self contained. This is what makes it 'pure'"
   ]
  },
  {
   "cell_type": "markdown",
   "id": "dd2f56b6",
   "metadata": {},
   "source": [
    "An endofunctor is a functor that ingests a category and returns that same category. For example a functor that worked on Option and returns another Option"
   ]
  },
  {
   "cell_type": "markdown",
   "id": "45ac4478",
   "metadata": {},
   "source": [
    "### Functor transformations"
   ]
  },
  {
   "cell_type": "markdown",
   "id": "be16f7e4",
   "metadata": {},
   "source": [
    "A functor transformation is the opposite of an endofunctor and is defined as follows"
   ]
  },
  {
   "cell_type": "code",
   "execution_count": 18,
   "id": "a52633ec",
   "metadata": {},
   "outputs": [
    {
     "data": {
      "text/plain": [
       "defined \u001b[32mtrait\u001b[39m \u001b[36mFunctorTransformation\u001b[39m"
      ]
     },
     "execution_count": 18,
     "metadata": {},
     "output_type": "execute_result"
    }
   ],
   "source": [
    "trait FunctorTransformation[-F[_], +G[_]] {\n",
    "    def apply[A](fa: F[A]): G[A]\n",
    "}"
   ]
  },
  {
   "cell_type": "markdown",
   "id": "24dcc40c",
   "metadata": {},
   "source": [
    "Note how in this example the value doesn't change but the wrapping type does. Functors can also work on categories too. This is important as we often need to change how something works and this is how we do that."
   ]
  },
  {
   "cell_type": "markdown",
   "id": "d38f4b0d",
   "metadata": {},
   "source": [
    "The variance annotations are significant here as the F type must be specific, otherwise the transformation could fail unexpectedly (only the type specified for the transformation is allowed). The G type can be covariant as anything that is in the same category is fine (Anything that matches the box we want is fine)."
   ]
  },
  {
   "cell_type": "markdown",
   "id": "627a28fd",
   "metadata": {},
   "source": [
    "F and G can be data wrapper types like: List, Option: Either.\n",
    "\n",
    "These are implemented Functors"
   ]
  },
  {
   "cell_type": "markdown",
   "id": "c0ee9e09",
   "metadata": {},
   "source": [
    "### ID functor"
   ]
  },
  {
   "cell_type": "code",
   "execution_count": null,
   "id": "93eed595",
   "metadata": {},
   "outputs": [],
   "source": []
  }
 ],
 "metadata": {
  "kernelspec": {
   "display_name": "Scala",
   "language": "scala",
   "name": "scala"
  },
  "language_info": {
   "codemirror_mode": "text/x-scala",
   "file_extension": ".sc",
   "mimetype": "text/x-scala",
   "name": "scala",
   "nbconvert_exporter": "script",
   "version": "2.13.11"
  },
  "toc": {
   "base_numbering": 1,
   "nav_menu": {},
   "number_sections": true,
   "sideBar": true,
   "skip_h1_title": true,
   "title_cell": "Table of Contents",
   "title_sidebar": "Contents",
   "toc_cell": false,
   "toc_position": {
    "height": "100px",
    "left": "103.983px",
    "top": "309.653px",
    "width": "165px"
   },
   "toc_section_display": true,
   "toc_window_display": false
  }
 },
 "nbformat": 4,
 "nbformat_minor": 5
}
